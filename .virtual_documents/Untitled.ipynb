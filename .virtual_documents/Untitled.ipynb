import numpy as np
import pandas as pd
df=pd.read_csv("zomato.csv")
df.columns=df.columns.str.lower()
df.columns=df.columns.str.replace(' ','_')
df =df.drop(['url','address','phone'],axis=1)
df=df.drop_duplicates()
df['rate']=df['rate'].str.replace('/5','').str.strip()
df['rate']=df['rate'].replace(['NEW','-'],np.nan)
df['rate']=df['rate'].astype(float)
df=df.dropna(subset=['rate'])
df['approx_cost(for_two_people)']=df['approx_cost(for_two_people)'].str.replace(',','')
df['approx_cost(for_two_people)']=df['approx_cost(for_two_people)'].astype(float)   
Koramangala_list = ['Koramangala 5th Block',
                    'Koramangala 7th Block',
                    'Koramangala 1st Block',
                    'Koramangala 8th Block',
                    'Koramangala 6th Block',
                    'Koramangala 2nd Block',
                    'Koramangala 3rd Block',
                    'Koramangala 4th Block'
                   ]
df['location'] = df['location'].replace(koramangala_list, 'Koramangala')
df['location'].unique()


df.info()



