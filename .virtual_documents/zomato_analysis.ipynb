import numpy as np
import pandas as pd
import matplotlib.pyplot as plt
import seaborn as sns 
df=pd.read_csv("zomato.csv")
df.columns=df.columns.str.lower()
df.columns=df.columns.str.replace(' ','_')
df =df.drop(['url','address','phone'],axis=1)
df=df.drop_duplicates()
df['rate']=df['rate'].str.replace('/5','').str.strip()
df['rate']=df['rate'].replace(['NEW','-'],np.nan)
df['rate']=df['rate'].astype(float)
df=df.dropna(subset=['rate'])
df['approx_cost(for_two_people)']=df['approx_cost(for_two_people)'].str.replace(',','')
df['approx_cost(for_two_people)']=df['approx_cost(for_two_people)'].astype(float)   
koramangala_list = [
    'Koramangala 5th Block', 'Koramangala 7th Block', 
    'Koramangala 1st Block', 'Koramangala 8th Block', 
    'Koramangala 6th Block', 'Koramangala 2nd Block', 
    'Koramangala 3rd Block', 'Koramangala 4th Block'
]
df['location'] = df['location'].replace(koramangala_list, 'Koramangala')
whitefield_list=['Whitefield',
                 'ITPL Main Road, Whitefield',
                 'Varthur Main Road, Whitefield'
                ]
df['location'] = df['location'].replace(whitefield_list, 'whitefield')
location_count=df['location'].value_counts().head(10)

plt.figure(figsize=(12,6))
sns.barplot(x=location_count.index, y =location_count.values)
plt.title('Top 10 Restaurant Locations in Bengaluru')
plt.xlabel('location')
plt.ylabel('Number of Restaurants')
plt.xticks(rotation=45)
plt.savefig('top_10_locations.png')
print("Plot saved as top_10_locations.png")


df.info()



